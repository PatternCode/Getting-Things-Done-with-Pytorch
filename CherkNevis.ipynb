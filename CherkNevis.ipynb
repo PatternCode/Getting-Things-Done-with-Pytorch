{
 "cells": [
  {
   "cell_type": "code",
   "execution_count": 1,
   "id": "1733d9de-60ea-46b9-b07e-0036aac64dfa",
   "metadata": {},
   "outputs": [],
   "source": [
    "import pandas as pd\n",
    "import numpy as np\n",
    "\n",
    "data = {\n",
    "    'A': [1, np.nan, 3, 4],\n",
    "    'B': [5, 6, np.nan, 8],\n",
    "    'C': [np.nan, 10, 11, 12]\n",
    "}\n",
    "\n",
    "df = pd.DataFrame(data)\n"
   ]
  },
  {
   "cell_type": "code",
   "execution_count": 5,
   "id": "c511900c-20f9-450a-87e4-119cf53935df",
   "metadata": {},
   "outputs": [
    {
     "data": {
      "text/plain": [
       "3"
      ]
     },
     "execution_count": 5,
     "metadata": {},
     "output_type": "execute_result"
    }
   ],
   "source": [
    "df.isnull().sum().sum()"
   ]
  },
  {
   "cell_type": "code",
   "execution_count": 6,
   "id": "c3d7145d-b1d0-45ff-bc08-f5cb444ac99f",
   "metadata": {},
   "outputs": [
    {
     "name": "stdout",
     "output_type": "stream",
     "text": [
      "Original daily_cases:\n",
      "2024-06-15    100\n",
      "2024-06-16    150\n",
      "2024-06-17    200\n",
      "2024-06-18    300\n",
      "2024-06-19    400\n",
      "Freq: D, dtype: int64\n",
      "\n",
      "Transformed daily_cases:\n",
      "2024-06-15    100\n",
      "2024-06-16     50\n",
      "2024-06-17     50\n",
      "2024-06-18    100\n",
      "2024-06-19    100\n",
      "Freq: D, dtype: int64\n"
     ]
    }
   ],
   "source": [
    "# Sample cumulative cases Series\n",
    "data = [100, 150, 200, 300, 400]\n",
    "index = pd.date_range(start='2024-06-15', periods=5)\n",
    "daily_cases = pd.Series(data, index=index)\n",
    "\n",
    "# Original daily_cases (cumulative data)\n",
    "print(\"Original daily_cases:\")\n",
    "print(daily_cases)\n",
    "\n"
   ]
  },
  {
   "cell_type": "code",
   "execution_count": 7,
   "id": "e0602486-94af-493a-9f5c-f9c0661bcaca",
   "metadata": {},
   "outputs": [
    {
     "name": "stdout",
     "output_type": "stream",
     "text": [
      "\n",
      "Transformed daily_cases:\n",
      "2024-06-15     NaN\n",
      "2024-06-16   -50.0\n",
      "2024-06-17     0.0\n",
      "2024-06-18    50.0\n",
      "2024-06-19     0.0\n",
      "Freq: D, dtype: float64\n"
     ]
    }
   ],
   "source": [
    "# Apply the transformation\n",
    "daily_cases = daily_cases.diff()\n",
    "\n",
    "# Transformed daily_cases (daily data)\n",
    "print(\"\\nTransformed daily_cases:\")\n",
    "print(daily_cases)"
   ]
  },
  {
   "cell_type": "code",
   "execution_count": 8,
   "id": "abe21bdd-dc98-4ec9-861a-d7358ed56e65",
   "metadata": {},
   "outputs": [
    {
     "data": {
      "text/plain": [
       "nan"
      ]
     },
     "execution_count": 8,
     "metadata": {},
     "output_type": "execute_result"
    }
   ],
   "source": [
    "daily_cases[0]"
   ]
  },
  {
   "cell_type": "code",
   "execution_count": null,
   "id": "43880cb4-0fbd-45f2-af33-14d4b4316736",
   "metadata": {},
   "outputs": [],
   "source": [
    "daily_cases.fillna(daily_cases[0]).astype(np.int64)"
   ]
  }
 ],
 "metadata": {
  "kernelspec": {
   "display_name": "Python 3 (ipykernel)",
   "language": "python",
   "name": "python3"
  },
  "language_info": {
   "codemirror_mode": {
    "name": "ipython",
    "version": 3
   },
   "file_extension": ".py",
   "mimetype": "text/x-python",
   "name": "python",
   "nbconvert_exporter": "python",
   "pygments_lexer": "ipython3",
   "version": "3.8.19"
  }
 },
 "nbformat": 4,
 "nbformat_minor": 5
}
